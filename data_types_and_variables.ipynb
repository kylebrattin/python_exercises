{
 "cells": [
  {
   "cell_type": "markdown",
   "id": "0cc3a925-5028-4c25-81d2-2e80003604b7",
   "metadata": {},
   "source": [
    "1. Identify the data type of the following values:"
   ]
  },
  {
   "cell_type": "code",
   "execution_count": 17,
   "id": "61b2c604-8185-4948-b643-df84fa07640f",
   "metadata": {
    "tags": []
   },
   "outputs": [
    {
     "data": {
      "text/plain": [
       "float"
      ]
     },
     "execution_count": 17,
     "metadata": {},
     "output_type": "execute_result"
    }
   ],
   "source": [
    "type(99.9)\n"
   ]
  },
  {
   "cell_type": "code",
   "execution_count": 7,
   "id": "cdd70563-fbd1-4cdb-8428-f2efa1dfcb74",
   "metadata": {
    "tags": []
   },
   "outputs": [
    {
     "data": {
      "text/plain": [
       "str"
      ]
     },
     "execution_count": 7,
     "metadata": {},
     "output_type": "execute_result"
    }
   ],
   "source": [
    "type(\"False\") "
   ]
  },
  {
   "cell_type": "code",
   "execution_count": 8,
   "id": "e1e54469-fdc3-498d-8e40-59fae7ffd171",
   "metadata": {
    "tags": []
   },
   "outputs": [
    {
     "data": {
      "text/plain": [
       "bool"
      ]
     },
     "execution_count": 8,
     "metadata": {},
     "output_type": "execute_result"
    }
   ],
   "source": [
    "type(False)"
   ]
  },
  {
   "cell_type": "code",
   "execution_count": 9,
   "id": "6cb286a0-9191-4863-a219-499a4935be10",
   "metadata": {
    "tags": []
   },
   "outputs": [
    {
     "data": {
      "text/plain": [
       "str"
      ]
     },
     "execution_count": 9,
     "metadata": {},
     "output_type": "execute_result"
    }
   ],
   "source": [
    "type('0')"
   ]
  },
  {
   "cell_type": "code",
   "execution_count": 10,
   "id": "351ff0d2-00b2-4a98-abb4-5529d97a2625",
   "metadata": {
    "tags": []
   },
   "outputs": [
    {
     "data": {
      "text/plain": [
       "int"
      ]
     },
     "execution_count": 10,
     "metadata": {},
     "output_type": "execute_result"
    }
   ],
   "source": [
    "type(0)"
   ]
  },
  {
   "cell_type": "code",
   "execution_count": 11,
   "id": "b26cc044-224d-41a0-a2c7-84f56e3324e1",
   "metadata": {
    "tags": []
   },
   "outputs": [
    {
     "data": {
      "text/plain": [
       "bool"
      ]
     },
     "execution_count": 11,
     "metadata": {},
     "output_type": "execute_result"
    }
   ],
   "source": [
    "type(True)"
   ]
  },
  {
   "cell_type": "code",
   "execution_count": 12,
   "id": "0d5c696b-f9a9-42d0-9406-b499d0373aae",
   "metadata": {
    "tags": []
   },
   "outputs": [
    {
     "data": {
      "text/plain": [
       "str"
      ]
     },
     "execution_count": 12,
     "metadata": {},
     "output_type": "execute_result"
    }
   ],
   "source": [
    "type('True')"
   ]
  },
  {
   "cell_type": "code",
   "execution_count": 15,
   "id": "6bca1197-a722-41d4-b249-df5b4015e275",
   "metadata": {
    "tags": []
   },
   "outputs": [
    {
     "data": {
      "text/plain": [
       "list"
      ]
     },
     "execution_count": 15,
     "metadata": {},
     "output_type": "execute_result"
    }
   ],
   "source": [
    "type([{}])"
   ]
  },
  {
   "cell_type": "code",
   "execution_count": 16,
   "id": "cb46cef2-628c-4cbb-aec4-00ee06a83017",
   "metadata": {
    "tags": []
   },
   "outputs": [
    {
     "data": {
      "text/plain": [
       "dict"
      ]
     },
     "execution_count": 16,
     "metadata": {},
     "output_type": "execute_result"
    }
   ],
   "source": [
    "type({'a' : []}) "
   ]
  },
  {
   "cell_type": "markdown",
   "id": "2a473b58-3258-4ec7-bdcd-a1cc0631c90e",
   "metadata": {},
   "source": [
    "2. What data type would best represent the following?\n",
    "- A term or phrase typed into a search box\n",
    "Dictionary \n",
    "- Whether or not a user is logged in\n",
    "Boolean\n",
    "- A discount amount to apply to a user's shopping cart\n",
    "int\n",
    "- Whether or not a coupon code is valid\n",
    "boolean\n",
    "- An email address typed into a registration form\n",
    "string\n",
    "- The price of a product\n",
    "float\n",
    "- The email addresses collected from a registration form\n",
    "list\n",
    "- Information about applicants to Codeup's data science program\n",
    "Dictionary"
   ]
  },
  {
   "cell_type": "code",
   "execution_count": 18,
   "id": "0fcd928b-241b-4b62-8fd9-10a477b36ff2",
   "metadata": {
    "tags": []
   },
   "outputs": [
    {
     "ename": "TypeError",
     "evalue": "can only concatenate str (not \"int\") to str",
     "output_type": "error",
     "traceback": [
      "\u001b[0;31m---------------------------------------------------------------------------\u001b[0m",
      "\u001b[0;31mTypeError\u001b[0m                                 Traceback (most recent call last)",
      "Cell \u001b[0;32mIn[18], line 5\u001b[0m\n\u001b[1;32m      1\u001b[0m \u001b[38;5;66;03m# 3. For each of the following code blocks:\u001b[39;00m\n\u001b[1;32m      2\u001b[0m \u001b[38;5;66;03m# Read the expression and predict the evaluated results\u001b[39;00m\n\u001b[1;32m      3\u001b[0m \u001b[38;5;66;03m# Execute the expression in a Python REPL.\u001b[39;00m\n\u001b[0;32m----> 5\u001b[0m \u001b[38;5;124m'\u001b[39m\u001b[38;5;124m1\u001b[39m\u001b[38;5;124m'\u001b[39m \u001b[38;5;241m+\u001b[39m \u001b[38;5;241m2\u001b[39m\n",
      "\u001b[0;31mTypeError\u001b[0m: can only concatenate str (not \"int\") to str"
     ]
    }
   ],
   "source": [
    "# 3. For each of the following code blocks:\n",
    "# Read the expression and predict the evaluated results\n",
    "# Execute the expression in a Python REPL.\n",
    "\n",
    "'1' + 2 #error can only concat str not int to str"
   ]
  },
  {
   "cell_type": "code",
   "execution_count": 19,
   "id": "6cdf0421-28a8-4ef3-b639-56bb2b64287a",
   "metadata": {
    "tags": []
   },
   "outputs": [
    {
     "data": {
      "text/plain": [
       "2"
      ]
     },
     "execution_count": 19,
     "metadata": {},
     "output_type": "execute_result"
    }
   ],
   "source": [
    "6 % 4"
   ]
  },
  {
   "cell_type": "code",
   "execution_count": 20,
   "id": "05f4418e-49b4-4f6f-bdf3-2a365b754501",
   "metadata": {
    "tags": []
   },
   "outputs": [
    {
     "data": {
      "text/plain": [
       "int"
      ]
     },
     "execution_count": 20,
     "metadata": {},
     "output_type": "execute_result"
    }
   ],
   "source": [
    "type( 6 % 4)"
   ]
  },
  {
   "cell_type": "code",
   "execution_count": 21,
   "id": "33d29ee1-089e-402b-92cf-bca2df635f57",
   "metadata": {
    "tags": []
   },
   "outputs": [
    {
     "data": {
      "text/plain": [
       "type"
      ]
     },
     "execution_count": 21,
     "metadata": {},
     "output_type": "execute_result"
    }
   ],
   "source": [
    "type(type(6 % 4))\n"
   ]
  },
  {
   "cell_type": "code",
   "execution_count": 22,
   "id": "6a95936a-f2c4-4cd5-9361-cfa4c0b93dd1",
   "metadata": {
    "tags": []
   },
   "outputs": [
    {
     "ename": "TypeError",
     "evalue": "can only concatenate str (not \"int\") to str",
     "output_type": "error",
     "traceback": [
      "\u001b[0;31m---------------------------------------------------------------------------\u001b[0m",
      "\u001b[0;31mTypeError\u001b[0m                                 Traceback (most recent call last)",
      "Cell \u001b[0;32mIn[22], line 1\u001b[0m\n\u001b[0;32m----> 1\u001b[0m \u001b[38;5;124m'\u001b[39m\u001b[38;5;124m3 + 4 is \u001b[39m\u001b[38;5;124m'\u001b[39m \u001b[38;5;241m+\u001b[39m \u001b[38;5;241m3\u001b[39m \u001b[38;5;241m+\u001b[39m \u001b[38;5;241m4\u001b[39m\n",
      "\u001b[0;31mTypeError\u001b[0m: can only concatenate str (not \"int\") to str"
     ]
    }
   ],
   "source": [
    "'3 + 4 is ' + 3 + 4 #error can only concat str not int to str\n"
   ]
  },
  {
   "cell_type": "code",
   "execution_count": 23,
   "id": "1cbcb02a-08f4-49cb-9ff4-6743d9bbef8b",
   "metadata": {
    "tags": []
   },
   "outputs": [
    {
     "data": {
      "text/plain": [
       "False"
      ]
     },
     "execution_count": 23,
     "metadata": {},
     "output_type": "execute_result"
    }
   ],
   "source": [
    "0 < 0\n"
   ]
  },
  {
   "cell_type": "code",
   "execution_count": 24,
   "id": "10ff9dfe-7f3c-44e5-8ea1-5ca04509559d",
   "metadata": {
    "tags": []
   },
   "outputs": [
    {
     "data": {
      "text/plain": [
       "False"
      ]
     },
     "execution_count": 24,
     "metadata": {},
     "output_type": "execute_result"
    }
   ],
   "source": [
    "'False' == False\n"
   ]
  },
  {
   "cell_type": "code",
   "execution_count": 25,
   "id": "91f6bbf7-6db1-41d5-b327-d98def99c90d",
   "metadata": {
    "tags": []
   },
   "outputs": [
    {
     "data": {
      "text/plain": [
       "False"
      ]
     },
     "execution_count": 25,
     "metadata": {},
     "output_type": "execute_result"
    }
   ],
   "source": [
    "True == 'True'\n"
   ]
  },
  {
   "cell_type": "code",
   "execution_count": 26,
   "id": "7183ae47-1a30-441c-b37b-7ce6aa05395e",
   "metadata": {
    "tags": []
   },
   "outputs": [
    {
     "data": {
      "text/plain": [
       "True"
      ]
     },
     "execution_count": 26,
     "metadata": {},
     "output_type": "execute_result"
    }
   ],
   "source": [
    "5 >= -5\n"
   ]
  },
  {
   "cell_type": "code",
   "execution_count": 27,
   "id": "425bba9a-5477-482c-a13c-98f4b2509fb6",
   "metadata": {
    "tags": []
   },
   "outputs": [
    {
     "data": {
      "text/plain": [
       "True"
      ]
     },
     "execution_count": 27,
     "metadata": {},
     "output_type": "execute_result"
    }
   ],
   "source": [
    "True or \"42\"\n"
   ]
  },
  {
   "cell_type": "code",
   "execution_count": 28,
   "id": "33d4e5f0-cb8e-435a-a34a-f75887344b47",
   "metadata": {
    "tags": []
   },
   "outputs": [
    {
     "data": {
      "text/plain": [
       "1"
      ]
     },
     "execution_count": 28,
     "metadata": {},
     "output_type": "execute_result"
    }
   ],
   "source": [
    "6 % 5\n"
   ]
  },
  {
   "cell_type": "code",
   "execution_count": 29,
   "id": "9c858771-2b39-41ee-bcb2-f6e67b043085",
   "metadata": {
    "tags": []
   },
   "outputs": [
    {
     "data": {
      "text/plain": [
       "False"
      ]
     },
     "execution_count": 29,
     "metadata": {},
     "output_type": "execute_result"
    }
   ],
   "source": [
    "5 < 4 and 1 == 1\n"
   ]
  },
  {
   "cell_type": "code",
   "execution_count": 30,
   "id": "4ac13618-da15-4c53-84de-578cf71c50b5",
   "metadata": {
    "tags": []
   },
   "outputs": [
    {
     "data": {
      "text/plain": [
       "False"
      ]
     },
     "execution_count": 30,
     "metadata": {},
     "output_type": "execute_result"
    }
   ],
   "source": [
    "'codeup' == 'codeup' and 'codeup' == 'Codeup'\n"
   ]
  },
  {
   "cell_type": "code",
   "execution_count": 31,
   "id": "c3c9c9fd-68e2-4925-8813-9292f5d1e7fe",
   "metadata": {
    "tags": []
   },
   "outputs": [
    {
     "ename": "SyntaxError",
     "evalue": "invalid syntax (3850088429.py, line 1)",
     "output_type": "error",
     "traceback": [
      "\u001b[0;36m  Cell \u001b[0;32mIn[31], line 1\u001b[0;36m\u001b[0m\n\u001b[0;31m    4 >= 0 and 1 !== '1'\u001b[0m\n\u001b[0m                   ^\u001b[0m\n\u001b[0;31mSyntaxError\u001b[0m\u001b[0;31m:\u001b[0m invalid syntax\n"
     ]
    }
   ],
   "source": [
    "4 >= 0 and 1 !== '1' #error invalid syntax\n"
   ]
  },
  {
   "cell_type": "code",
   "execution_count": 32,
   "id": "fdcb4e1b-0c2e-42c9-935f-b1697bca25c8",
   "metadata": {
    "tags": []
   },
   "outputs": [
    {
     "data": {
      "text/plain": [
       "True"
      ]
     },
     "execution_count": 32,
     "metadata": {},
     "output_type": "execute_result"
    }
   ],
   "source": [
    "6 % 3 == 0\n"
   ]
  },
  {
   "cell_type": "code",
   "execution_count": 33,
   "id": "c027f769-9404-4198-aea8-8bd46fbf6618",
   "metadata": {
    "tags": []
   },
   "outputs": [
    {
     "data": {
      "text/plain": [
       "True"
      ]
     },
     "execution_count": 33,
     "metadata": {},
     "output_type": "execute_result"
    }
   ],
   "source": [
    "5 % 2 != 0\n"
   ]
  },
  {
   "cell_type": "code",
   "execution_count": 34,
   "id": "27cbfe7f-058c-40f6-9faf-de9611490ebc",
   "metadata": {
    "tags": []
   },
   "outputs": [
    {
     "ename": "TypeError",
     "evalue": "can only concatenate list (not \"int\") to list",
     "output_type": "error",
     "traceback": [
      "\u001b[0;31m---------------------------------------------------------------------------\u001b[0m",
      "\u001b[0;31mTypeError\u001b[0m                                 Traceback (most recent call last)",
      "Cell \u001b[0;32mIn[34], line 1\u001b[0m\n\u001b[0;32m----> 1\u001b[0m [\u001b[38;5;241m1\u001b[39m] \u001b[38;5;241m+\u001b[39m \u001b[38;5;241m2\u001b[39m\n",
      "\u001b[0;31mTypeError\u001b[0m: can only concatenate list (not \"int\") to list"
     ]
    }
   ],
   "source": [
    "[1] + 2 #error can only concat list not int to list\n"
   ]
  },
  {
   "cell_type": "code",
   "execution_count": 35,
   "id": "b015eaac-d626-431c-bf27-89d3ba535e4a",
   "metadata": {
    "tags": []
   },
   "outputs": [
    {
     "data": {
      "text/plain": [
       "[1, 2]"
      ]
     },
     "execution_count": 35,
     "metadata": {},
     "output_type": "execute_result"
    }
   ],
   "source": [
    "[1] + [2]\n"
   ]
  },
  {
   "cell_type": "code",
   "execution_count": 36,
   "id": "fbd7b977-3a16-4929-bff1-6d019e890a55",
   "metadata": {
    "tags": []
   },
   "outputs": [
    {
     "data": {
      "text/plain": [
       "[1, 1]"
      ]
     },
     "execution_count": 36,
     "metadata": {},
     "output_type": "execute_result"
    }
   ],
   "source": [
    "[1] * 2\n"
   ]
  },
  {
   "cell_type": "code",
   "execution_count": 37,
   "id": "7e18b6c4-c976-4807-bcfb-a78c2bc8bf3c",
   "metadata": {
    "tags": []
   },
   "outputs": [
    {
     "data": {
      "text/plain": [
       "True"
      ]
     },
     "execution_count": 37,
     "metadata": {},
     "output_type": "execute_result"
    }
   ],
   "source": [
    "[] + [] == []\n"
   ]
  },
  {
   "cell_type": "code",
   "execution_count": 38,
   "id": "290708a1-96de-4bfb-b639-2a0780371de2",
   "metadata": {
    "tags": []
   },
   "outputs": [
    {
     "ename": "TypeError",
     "evalue": "unsupported operand type(s) for +: 'dict' and 'dict'",
     "output_type": "error",
     "traceback": [
      "\u001b[0;31m---------------------------------------------------------------------------\u001b[0m",
      "\u001b[0;31mTypeError\u001b[0m                                 Traceback (most recent call last)",
      "Cell \u001b[0;32mIn[38], line 1\u001b[0m\n\u001b[0;32m----> 1\u001b[0m {} \u001b[38;5;241m+\u001b[39m {}\n",
      "\u001b[0;31mTypeError\u001b[0m: unsupported operand type(s) for +: 'dict' and 'dict'"
     ]
    }
   ],
   "source": [
    "{} + {} #error unsupported operand type(s) for +: 'dict' and 'dict'\n",
    "\n",
    "\n"
   ]
  },
  {
   "cell_type": "markdown",
   "id": "241f8039-a122-4b44-bbc3-7d8f8c11cc9b",
   "metadata": {},
   "source": [
    "Describe the following scenarios. You will need to create and assign variables and use operators.\n",
    "4. You have rented some movies for your kids:"
   ]
  },
  {
   "cell_type": "code",
   "execution_count": 51,
   "id": "9c214227-c73f-4d90-af39-b4e51219fc3d",
   "metadata": {
    "tags": []
   },
   "outputs": [
    {
     "name": "stdout",
     "output_type": "stream",
     "text": [
      "How much I will have to pay is 27 dollars\n"
     ]
    }
   ],
   "source": [
    "lm = 3 * 3 \n",
    "bb = 5 * 3\n",
    "h = 1 * 3\n",
    "\n",
    "total = lm + bb + h\n",
    "\n",
    "print('How much I will have to pay is', total, 'dollars')"
   ]
  },
  {
   "cell_type": "markdown",
   "id": "fb3b12ae-cf3e-4058-88fe-485d0cf81f21",
   "metadata": {
    "tags": []
   },
   "source": [
    "5. Suppose you're working as a contractor for 3 companies: Google, Amazon, and Facebook. This 5. Suppose you're working as a contractor for 3 companies: Google, Amazon and Facebook.\n",
    "\n",
    "They pay you the following hourly rates:\n",
    "\n",
    "Google: 400 dollars\n",
    "Amazon: 380 dollars\n",
    "Facebook: 350 dollars\n",
    "This week you worked: 10 hours for Facebook, 6 hours for Google and 4 hours for Amazon.\n",
    "\n",
    "How much will you receive in payment for this week?"
   ]
  },
  {
   "cell_type": "code",
   "execution_count": 57,
   "id": "ebf15b0e-7415-45e5-98f9-8d044e6fee8a",
   "metadata": {
    "tags": []
   },
   "outputs": [
    {
     "name": "stdout",
     "output_type": "stream",
     "text": [
      "This week I made 7420 dollars in total\n"
     ]
    }
   ],
   "source": [
    "g = 400 * 6\n",
    "a = 380 * 4\n",
    "fb = 350 * 10\n",
    "\n",
    "total = g + a + fb\n",
    "\n",
    "print('This week I made',total, 'dollars in total')\n"
   ]
  },
  {
   "cell_type": "markdown",
   "id": "0253615e-24ad-4a0c-b0fc-a7dd3fa5d65b",
   "metadata": {},
   "source": [
    "6. A student can be enrolled to a class only if the class is not full and the class schedule does not conflict with her current schedule."
   ]
  },
  {
   "cell_type": "code",
   "execution_count": 86,
   "id": "9ec5ed92-d31a-4895-92b7-c0c1f247b079",
   "metadata": {
    "tags": []
   },
   "outputs": [
    {
     "name": "stdout",
     "output_type": "stream",
     "text": [
      "Student can be enrolled in the class.\n"
     ]
    }
   ],
   "source": [
    "class_not_full = True\n",
    "schedule_conflict = False\n",
    "\n",
    "if class_not_full and not schedule_conflict:\n",
    "    print(\"Student can be enrolled in the class.\")\n",
    "else:\n",
    "    print(\"Student cannot be enrolled in the class.\")\n"
   ]
  },
  {
   "cell_type": "markdown",
   "id": "6964cde9-0696-4a95-a17c-1712d0febc38",
   "metadata": {},
   "source": [
    "7. A product offer can be applied only if people buys more than 2 items, and the offer has not expired. Premium members do not need to buy a specific amount of products."
   ]
  },
  {
   "cell_type": "code",
   "execution_count": 87,
   "id": "daed3c60-6eca-429d-bd02-569021e7d4ed",
   "metadata": {
    "tags": []
   },
   "outputs": [
    {
     "name": "stdout",
     "output_type": "stream",
     "text": [
      "Offer applied.\n"
     ]
    }
   ],
   "source": [
    "items_purchased = 3\n",
    "offer_expired = False\n",
    "premium_member = False\n",
    "\n",
    "if (premium_member or items_purchased > 2) and not offer_expired:\n",
    "        print(\"Offer applied.\")\n",
    "else:\n",
    "    print(\"Offer not applied.\")\n",
    "\n"
   ]
  },
  {
   "cell_type": "markdown",
   "id": "12d06a46-41d0-4227-bb8c-32ff33c4d264",
   "metadata": {},
   "source": [
    "8. Use the following code to follow the instructions below:\n",
    "username = 'codeup'\n",
    "password = 'notastrongpassword'"
   ]
  },
  {
   "cell_type": "code",
   "execution_count": 105,
   "id": "8ff7f92f-e3ca-41a8-9327-877bac911bde",
   "metadata": {
    "tags": []
   },
   "outputs": [],
   "source": [
    "password_length = len(password) >= 5\n",
    "\n",
    "username_length = len(username) <= 20\n",
    "\n",
    "password_username = password != username\n"
   ]
  },
  {
   "cell_type": "code",
   "execution_count": 107,
   "id": "5ff25972-1cc3-4c5c-bc39-83824ed26093",
   "metadata": {
    "tags": []
   },
   "outputs": [
    {
     "name": "stdout",
     "output_type": "stream",
     "text": [
      "True\n",
      "True\n",
      "True\n"
     ]
    }
   ],
   "source": [
    "print(password_length)\n",
    "print(username_length)\n",
    "print(password_username)\n"
   ]
  },
  {
   "cell_type": "code",
   "execution_count": null,
   "id": "203b58c1-a38a-466d-ab74-10f0881c99f7",
   "metadata": {
    "tags": []
   },
   "outputs": [],
   "source": []
  }
 ],
 "metadata": {
  "kernelspec": {
   "display_name": "Python 3 (ipykernel)",
   "language": "python",
   "name": "python3"
  },
  "language_info": {
   "codemirror_mode": {
    "name": "ipython",
    "version": 3
   },
   "file_extension": ".py",
   "mimetype": "text/x-python",
   "name": "python",
   "nbconvert_exporter": "python",
   "pygments_lexer": "ipython3",
   "version": "3.11.4"
  }
 },
 "nbformat": 4,
 "nbformat_minor": 5
}
