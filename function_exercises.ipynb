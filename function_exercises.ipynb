{
 "cells": [
  {
   "cell_type": "code",
   "execution_count": 30,
   "id": "64efec36-ed19-4fd2-9a81-2962814e2e28",
   "metadata": {},
   "outputs": [],
   "source": [
    "#1\n",
    "def is_two(input_value):\n",
    "    return input_value == 2 or input_value == '2'\n",
    "\n",
    "    "
   ]
  },
  {
   "cell_type": "code",
   "execution_count": 31,
   "id": "79ebcd15-9e95-453f-b63f-85fbf678a502",
   "metadata": {
    "tags": []
   },
   "outputs": [
    {
     "data": {
      "text/plain": [
       "False"
      ]
     },
     "execution_count": 31,
     "metadata": {},
     "output_type": "execute_result"
    }
   ],
   "source": [
    "is_two(5)"
   ]
  },
  {
   "cell_type": "code",
   "execution_count": 175,
   "id": "1d13cf75-df4d-451b-94cc-fe7f582f67b9",
   "metadata": {
    "tags": []
   },
   "outputs": [],
   "source": [
    "#2\n",
    "def is_vowel(v):\n",
    "    vowels = \"aeiouAEIOU\"\n",
    "    return v in vowels\n"
   ]
  },
  {
   "cell_type": "code",
   "execution_count": 182,
   "id": "547f3467-1a16-4654-88a5-f5bba862e4e7",
   "metadata": {
    "tags": []
   },
   "outputs": [
    {
     "data": {
      "text/plain": [
       "True"
      ]
     },
     "execution_count": 182,
     "metadata": {},
     "output_type": "execute_result"
    }
   ],
   "source": [
    "is_vowel('a')"
   ]
  },
  {
   "cell_type": "code",
   "execution_count": 40,
   "id": "24f76036-7ed9-472c-a5ef-a5e263c03313",
   "metadata": {
    "tags": []
   },
   "outputs": [],
   "source": [
    "#3\n",
    "def is_consonant(c):\n",
    "    return not is_vowel(c)\n"
   ]
  },
  {
   "cell_type": "code",
   "execution_count": 48,
   "id": "7be7ee4f-47c1-4e40-9f56-43916ad6dc5c",
   "metadata": {
    "tags": []
   },
   "outputs": [
    {
     "data": {
      "text/plain": [
       "True"
      ]
     },
     "execution_count": 48,
     "metadata": {},
     "output_type": "execute_result"
    }
   ],
   "source": [
    "is_consonant('y')"
   ]
  },
  {
   "cell_type": "code",
   "execution_count": 60,
   "id": "39e6eb41-a8b5-4fe9-b808-199c1cdb94d8",
   "metadata": {
    "tags": []
   },
   "outputs": [],
   "source": [
    "#4\n",
    "def capital_if_consonant(word):\n",
    "    if word and is_consonant(word[0]):\n",
    "        return word[0].upper() + word[1:]\n",
    "    else:\n",
    "        return word\n"
   ]
  },
  {
   "cell_type": "code",
   "execution_count": 184,
   "id": "ef51cf91-6cd8-484b-8de6-7b7fd084f81d",
   "metadata": {
    "tags": []
   },
   "outputs": [
    {
     "data": {
      "text/plain": [
       "'idle'"
      ]
     },
     "execution_count": 184,
     "metadata": {},
     "output_type": "execute_result"
    }
   ],
   "source": [
    "capital_if_consonant('idle')"
   ]
  },
  {
   "cell_type": "code",
   "execution_count": 67,
   "id": "47a00f0c-ee9c-4beb-8655-a91b1f81f456",
   "metadata": {
    "tags": []
   },
   "outputs": [],
   "source": [
    "#5\n",
    "def calculate_tip(tip_percentage, bill_total):\n",
    "    if 0 <= tip_percentage <= 1:\n",
    "        tip_amount = tip_percentage * bill_total\n",
    "        return tip_amount\n",
    "    else:\n",
    "        return \"Invalid tip percentage\"\n"
   ]
  },
  {
   "cell_type": "code",
   "execution_count": 70,
   "id": "4272aec2-5aeb-46e4-83f6-2b795b0874b8",
   "metadata": {
    "tags": []
   },
   "outputs": [
    {
     "data": {
      "text/plain": [
       "0"
      ]
     },
     "execution_count": 70,
     "metadata": {},
     "output_type": "execute_result"
    }
   ],
   "source": [
    "calculate_tip(0, 50)"
   ]
  },
  {
   "cell_type": "code",
   "execution_count": 74,
   "id": "007397fa-c3ca-46fd-bb8b-2b85b423ae16",
   "metadata": {
    "tags": []
   },
   "outputs": [],
   "source": [
    "#6\n",
    "def apply_discount(original_price, discount_percentage):\n",
    "    if 0 <= discount_percentage <= 100:\n",
    "        discount_amount = (discount_percentage / 100) * original_price\n",
    "        discounted_price = original_price - discount_amount\n",
    "        return discounted_price\n",
    "    else:\n",
    "        return \"Invalid discount percentage\""
   ]
  },
  {
   "cell_type": "code",
   "execution_count": 76,
   "id": "9507664b-fb22-4260-afe9-f77ba44cac96",
   "metadata": {
    "tags": []
   },
   "outputs": [
    {
     "data": {
      "text/plain": [
       "27.0"
      ]
     },
     "execution_count": 76,
     "metadata": {},
     "output_type": "execute_result"
    }
   ],
   "source": [
    "apply_discount(30,10)"
   ]
  },
  {
   "cell_type": "code",
   "execution_count": 91,
   "id": "14072ecf-64ac-459b-9bb1-fe8616c41869",
   "metadata": {
    "tags": []
   },
   "outputs": [],
   "source": [
    "#7\n",
    "def handle_commas(numstring):\n",
    "    numstring = str(numstring).replace(\",\", \"\")\n",
    "    return int(numstring)"
   ]
  },
  {
   "cell_type": "code",
   "execution_count": 92,
   "id": "08a2d065-9488-41d5-8f62-974acf111644",
   "metadata": {
    "tags": []
   },
   "outputs": [
    {
     "data": {
      "text/plain": [
       "50"
      ]
     },
     "execution_count": 92,
     "metadata": {},
     "output_type": "execute_result"
    }
   ],
   "source": [
    "handle_commas('50')"
   ]
  },
  {
   "cell_type": "code",
   "execution_count": 104,
   "id": "d16af34e-0b5a-4ab9-98bd-ee94107cc629",
   "metadata": {
    "tags": []
   },
   "outputs": [],
   "source": [
    "#8\n",
    "def get_letter_grade(score):\n",
    "    if 90 <= score <= 100:\n",
    "        return \"A\"\n",
    "    elif 80 <= score < 90:\n",
    "        return \"B\"\n",
    "    elif 70 <= score < 80:\n",
    "        return \"C\"\n",
    "    elif 60 <= score < 70:\n",
    "        return \"D\"\n",
    "    elif 0 <= score < 60:\n",
    "        return \"F\"\n",
    "    else:\n",
    "        return \"Invalid score\"\n"
   ]
  },
  {
   "cell_type": "code",
   "execution_count": 106,
   "id": "b373bc01-869a-4f9b-9c0e-915d850e1fcf",
   "metadata": {
    "tags": []
   },
   "outputs": [
    {
     "data": {
      "text/plain": [
       "'B'"
      ]
     },
     "execution_count": 106,
     "metadata": {},
     "output_type": "execute_result"
    }
   ],
   "source": [
    "get_letter_grade(88)"
   ]
  },
  {
   "cell_type": "code",
   "execution_count": 126,
   "id": "791db8af-3fcc-40bb-bc4e-06d6b2009b9c",
   "metadata": {
    "tags": []
   },
   "outputs": [],
   "source": [
    "#9\n",
    "def remove_vowels(input_string):\n",
    "    vowels = \"AEIOUaeiou\"\n",
    "    return ''.join(char for char in input_string if char not in vowels)\n",
    "\n",
    "\n",
    "    \n",
    "    "
   ]
  },
  {
   "cell_type": "code",
   "execution_count": 127,
   "id": "96aafd8c-0eed-4836-974f-273c7bc577ba",
   "metadata": {
    "tags": []
   },
   "outputs": [
    {
     "data": {
      "text/plain": [
       "'shs'"
      ]
     },
     "execution_count": 127,
     "metadata": {},
     "output_type": "execute_result"
    }
   ],
   "source": [
    "remove_vowels('shoes')"
   ]
  },
  {
   "cell_type": "code",
   "execution_count": 142,
   "id": "4579dd17-d4fa-4fc8-b11a-b1e615c1a9b5",
   "metadata": {
    "tags": []
   },
   "outputs": [],
   "source": [
    "#10\n",
    "def normalize_name(string):\n",
    "    string = ''.join(e for e in string if e.isalnum() or e == ' ')\n",
    "    \n",
    "    string = string.strip()\n",
    "    \n",
    "    string = string.lower()\n",
    "    \n",
    "    string = string.replace(' ', '_')\n",
    "    \n",
    "    return string\n"
   ]
  },
  {
   "cell_type": "code",
   "execution_count": 189,
   "id": "c44bf9a6-b20d-4fa5-b7ef-bbde5cda8d7d",
   "metadata": {
    "tags": []
   },
   "outputs": [
    {
     "data": {
      "text/plain": [
       "'puppy_dog'"
      ]
     },
     "execution_count": 189,
     "metadata": {},
     "output_type": "execute_result"
    }
   ],
   "source": [
    "normalize_name('PUPPY DOG')"
   ]
  },
  {
   "cell_type": "code",
   "execution_count": 167,
   "id": "78afba2e-1b2b-4674-a1eb-03e7f9ca2894",
   "metadata": {
    "tags": []
   },
   "outputs": [
    {
     "name": "stdout",
     "output_type": "stream",
     "text": [
      "[1, 3, 6, 10]\n"
     ]
    }
   ],
   "source": [
    "num_list =[1,2,3,4]\n",
    "#empty list able to add sums later \n",
    "add_list = []\n",
    "# starting with 0 to add\n",
    "c_sum = 0\n",
    "# for loop to run numbers in the list 1x1\n",
    "for i in num_list:\n",
    "# sums i and replaces 0 in c_sum with new addition\n",
    "    c_sum += i\n",
    "#     appending the add_list and adding the new numbers to that said list \n",
    "    add_list.append(c_sum)\n",
    "print(add_list)"
   ]
  },
  {
   "cell_type": "code",
   "execution_count": 170,
   "id": "f428d36a-ba80-49d9-874b-2af90d2c351a",
   "metadata": {
    "tags": []
   },
   "outputs": [],
   "source": [
    "def cumulative_sum():\n",
    "    num_list =[1,2,3,4]\n",
    "#empty list able to add sums later \n",
    "    add_list = []\n",
    "# starting with 0 to add\n",
    "    c_sum = 0\n",
    "# for loop to run numbers in the list 1x1\n",
    "    for i in num_list:\n",
    "# sums i and replaces 0 in c_sum with new addition\n",
    "        c_sum += i\n",
    "#     appending the add_list and adding the new numbers to that said list \n",
    "    add_list.append(c_sum)\n",
    "    return add_list"
   ]
  },
  {
   "cell_type": "code",
   "execution_count": null,
   "id": "ae631150-26ab-414c-86a6-b43d5308522b",
   "metadata": {},
   "outputs": [],
   "source": []
  },
  {
   "cell_type": "code",
   "execution_count": null,
   "id": "76ae62ef-340d-4da0-8718-ea0dba7e65e1",
   "metadata": {},
   "outputs": [],
   "source": []
  },
  {
   "cell_type": "code",
   "execution_count": 148,
   "id": "6c9d08bb-c131-4d2d-ba4e-77630da98059",
   "metadata": {
    "tags": []
   },
   "outputs": [],
   "source": [
    "#11\n",
    "def cumulative_sum(numbers):\n",
    "    #checks if input is provied if not returns a empty list \n",
    "    if not numbers:\n",
    "        return []\n",
    "\n",
    "    cumulative = [numbers[0]]\n",
    "    for i in range(1, len(numbers)):\n",
    "        cumulative.append(cumulative[i - 1] + numbers[i])\n",
    "\n",
    "    return cumulative\n"
   ]
  },
  {
   "cell_type": "code",
   "execution_count": 164,
   "id": "1d0853ca-25b2-42fb-aaf0-b726c0c4c7b9",
   "metadata": {
    "tags": []
   },
   "outputs": [
    {
     "name": "stdout",
     "output_type": "stream",
     "text": [
      "[1, 2, 3]\n",
      "[5, 13, 23]\n"
     ]
    }
   ],
   "source": [
    "result1 = cumulative_sum([1, 1, 1])\n",
    "print(result1)\n",
    "\n",
    "result2 = cumulative_sum([1, 2, 10])\n",
    "print(result2) \n"
   ]
  },
  {
   "cell_type": "code",
   "execution_count": null,
   "id": "6fa2ff0d-2842-44a2-bdd1-968b3c05d7dd",
   "metadata": {},
   "outputs": [],
   "source": [
    "#Bonus\n"
   ]
  },
  {
   "cell_type": "code",
   "execution_count": 149,
   "id": "70dd07db-00b7-41f1-8779-bd52575d1349",
   "metadata": {
    "tags": []
   },
   "outputs": [],
   "source": [
    "def funtion2(x,y):\n",
    "    return x+y"
   ]
  },
  {
   "cell_type": "code",
   "execution_count": 150,
   "id": "5b284a8e-f86b-4287-9e96-9a0f6296212b",
   "metadata": {
    "tags": []
   },
   "outputs": [
    {
     "ename": "TypeError",
     "evalue": "funtion2() missing 2 required positional arguments: 'x' and 'y'",
     "output_type": "error",
     "traceback": [
      "\u001b[0;31m---------------------------------------------------------------------------\u001b[0m",
      "\u001b[0;31mTypeError\u001b[0m                                 Traceback (most recent call last)",
      "Cell \u001b[0;32mIn[150], line 1\u001b[0m\n\u001b[0;32m----> 1\u001b[0m funtion2()\n",
      "\u001b[0;31mTypeError\u001b[0m: funtion2() missing 2 required positional arguments: 'x' and 'y'"
     ]
    }
   ],
   "source": [
    "funtion2()"
   ]
  },
  {
   "cell_type": "code",
   "execution_count": null,
   "id": "659499e7-922e-41d5-a542-02c6c23b9042",
   "metadata": {},
   "outputs": [],
   "source": []
  }
 ],
 "metadata": {
  "kernelspec": {
   "display_name": "Python 3 (ipykernel)",
   "language": "python",
   "name": "python3"
  },
  "language_info": {
   "codemirror_mode": {
    "name": "ipython",
    "version": 3
   },
   "file_extension": ".py",
   "mimetype": "text/x-python",
   "name": "python",
   "nbconvert_exporter": "python",
   "pygments_lexer": "ipython3",
   "version": "3.11.4"
  }
 },
 "nbformat": 4,
 "nbformat_minor": 5
}
