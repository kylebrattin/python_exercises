{
 "cells": [
  {
   "cell_type": "code",
   "execution_count": 30,
   "id": "64efec36-ed19-4fd2-9a81-2962814e2e28",
   "metadata": {},
   "outputs": [],
   "source": [
    "#1\n",
    "def is_two(input_value):\n",
    "    return input_value == 2 or input_value == '2'\n",
    "\n",
    "    "
   ]
  },
  {
   "cell_type": "code",
   "execution_count": 31,
   "id": "79ebcd15-9e95-453f-b63f-85fbf678a502",
   "metadata": {
    "tags": []
   },
   "outputs": [
    {
     "data": {
      "text/plain": [
       "False"
      ]
     },
     "execution_count": 31,
     "metadata": {},
     "output_type": "execute_result"
    }
   ],
   "source": [
    "is_two(5)"
   ]
  },
  {
   "cell_type": "code",
   "execution_count": 27,
   "id": "1d13cf75-df4d-451b-94cc-fe7f582f67b9",
   "metadata": {
    "tags": []
   },
   "outputs": [],
   "source": [
    "#2\n",
    "def is_vowel(v):\n",
    "    vowels = \"aeiouAEIOU\"\n",
    "    return v in vowels\n"
   ]
  },
  {
   "cell_type": "code",
   "execution_count": 37,
   "id": "547f3467-1a16-4654-88a5-f5bba862e4e7",
   "metadata": {
    "tags": []
   },
   "outputs": [
    {
     "data": {
      "text/plain": [
       "True"
      ]
     },
     "execution_count": 37,
     "metadata": {},
     "output_type": "execute_result"
    }
   ],
   "source": [
    "is_vowel('a')"
   ]
  },
  {
   "cell_type": "code",
   "execution_count": 40,
   "id": "24f76036-7ed9-472c-a5ef-a5e263c03313",
   "metadata": {
    "tags": []
   },
   "outputs": [],
   "source": [
    "#3\n",
    "def is_consonant(c):\n",
    "    return not is_vowel(c)\n"
   ]
  },
  {
   "cell_type": "code",
   "execution_count": 48,
   "id": "7be7ee4f-47c1-4e40-9f56-43916ad6dc5c",
   "metadata": {
    "tags": []
   },
   "outputs": [
    {
     "data": {
      "text/plain": [
       "True"
      ]
     },
     "execution_count": 48,
     "metadata": {},
     "output_type": "execute_result"
    }
   ],
   "source": [
    "is_consonant('y')"
   ]
  },
  {
   "cell_type": "code",
   "execution_count": 60,
   "id": "39e6eb41-a8b5-4fe9-b808-199c1cdb94d8",
   "metadata": {
    "tags": []
   },
   "outputs": [],
   "source": [
    "#4\n",
    "def capital_if_consonant(word):\n",
    "    if word and is_consonant(word[0]):\n",
    "        return word[0].upper() + word[1:]\n",
    "    else:\n",
    "        return word\n"
   ]
  },
  {
   "cell_type": "code",
   "execution_count": 66,
   "id": "ef51cf91-6cd8-484b-8de6-7b7fd084f81d",
   "metadata": {
    "tags": []
   },
   "outputs": [
    {
     "data": {
      "text/plain": [
       "'Bear'"
      ]
     },
     "execution_count": 66,
     "metadata": {},
     "output_type": "execute_result"
    }
   ],
   "source": [
    "capital_if_consonant('bear')"
   ]
  },
  {
   "cell_type": "code",
   "execution_count": 67,
   "id": "47a00f0c-ee9c-4beb-8655-a91b1f81f456",
   "metadata": {
    "tags": []
   },
   "outputs": [],
   "source": [
    "#5\n",
    "def calculate_tip(tip_percentage, bill_total):\n",
    "    if 0 <= tip_percentage <= 1:\n",
    "        tip_amount = tip_percentage * bill_total\n",
    "        return tip_amount\n",
    "    else:\n",
    "        return \"Invalid tip percentage\"\n"
   ]
  },
  {
   "cell_type": "code",
   "execution_count": 70,
   "id": "4272aec2-5aeb-46e4-83f6-2b795b0874b8",
   "metadata": {
    "tags": []
   },
   "outputs": [
    {
     "data": {
      "text/plain": [
       "0"
      ]
     },
     "execution_count": 70,
     "metadata": {},
     "output_type": "execute_result"
    }
   ],
   "source": [
    "calculate_tip(0, 50)"
   ]
  },
  {
   "cell_type": "code",
   "execution_count": 74,
   "id": "007397fa-c3ca-46fd-bb8b-2b85b423ae16",
   "metadata": {
    "tags": []
   },
   "outputs": [],
   "source": [
    "#6\n",
    "def apply_discount(original_price, discount_percentage):\n",
    "    if 0 <= discount_percentage <= 100:\n",
    "        discount_amount = (discount_percentage / 100) * original_price\n",
    "        discounted_price = original_price - discount_amount\n",
    "        return discounted_price\n",
    "    else:\n",
    "        return \"Invalid discount percentage\""
   ]
  },
  {
   "cell_type": "code",
   "execution_count": 76,
   "id": "9507664b-fb22-4260-afe9-f77ba44cac96",
   "metadata": {
    "tags": []
   },
   "outputs": [
    {
     "data": {
      "text/plain": [
       "27.0"
      ]
     },
     "execution_count": 76,
     "metadata": {},
     "output_type": "execute_result"
    }
   ],
   "source": [
    "apply_discount(30,10)"
   ]
  },
  {
   "cell_type": "code",
   "execution_count": null,
   "id": "14072ecf-64ac-459b-9bb1-fe8616c41869",
   "metadata": {},
   "outputs": [],
   "source": [
    "#7\n",
    "def handle_commas():\n",
    "    "
   ]
  },
  {
   "cell_type": "code",
   "execution_count": null,
   "id": "08a2d065-9488-41d5-8f62-974acf111644",
   "metadata": {},
   "outputs": [],
   "source": []
  },
  {
   "cell_type": "code",
   "execution_count": null,
   "id": "d16af34e-0b5a-4ab9-98bd-ee94107cc629",
   "metadata": {},
   "outputs": [],
   "source": [
    "#8\n",
    "def get_letter_grade"
   ]
  },
  {
   "cell_type": "code",
   "execution_count": null,
   "id": "b373bc01-869a-4f9b-9c0e-915d850e1fcf",
   "metadata": {},
   "outputs": [],
   "source": []
  },
  {
   "cell_type": "code",
   "execution_count": null,
   "id": "791db8af-3fcc-40bb-bc4e-06d6b2009b9c",
   "metadata": {},
   "outputs": [],
   "source": [
    "#9\n",
    "def remove_vowels"
   ]
  },
  {
   "cell_type": "code",
   "execution_count": null,
   "id": "96aafd8c-0eed-4836-974f-273c7bc577ba",
   "metadata": {},
   "outputs": [],
   "source": []
  },
  {
   "cell_type": "code",
   "execution_count": null,
   "id": "4579dd17-d4fa-4fc8-b11a-b1e615c1a9b5",
   "metadata": {},
   "outputs": [],
   "source": [
    "#10\n",
    "def normalize_name"
   ]
  },
  {
   "cell_type": "code",
   "execution_count": null,
   "id": "c44bf9a6-b20d-4fa5-b7ef-bbde5cda8d7d",
   "metadata": {},
   "outputs": [],
   "source": []
  },
  {
   "cell_type": "code",
   "execution_count": null,
   "id": "6c9d08bb-c131-4d2d-ba4e-77630da98059",
   "metadata": {},
   "outputs": [],
   "source": [
    "#11\n"
   ]
  },
  {
   "cell_type": "code",
   "execution_count": null,
   "id": "1d0853ca-25b2-42fb-aaf0-b726c0c4c7b9",
   "metadata": {},
   "outputs": [],
   "source": []
  },
  {
   "cell_type": "code",
   "execution_count": null,
   "id": "6fa2ff0d-2842-44a2-bdd1-968b3c05d7dd",
   "metadata": {},
   "outputs": [],
   "source": [
    "#Bonus\n"
   ]
  },
  {
   "cell_type": "code",
   "execution_count": null,
   "id": "70dd07db-00b7-41f1-8779-bd52575d1349",
   "metadata": {},
   "outputs": [],
   "source": []
  },
  {
   "cell_type": "code",
   "execution_count": null,
   "id": "5b284a8e-f86b-4287-9e96-9a0f6296212b",
   "metadata": {},
   "outputs": [],
   "source": []
  }
 ],
 "metadata": {
  "kernelspec": {
   "display_name": "Python 3 (ipykernel)",
   "language": "python",
   "name": "python3"
  },
  "language_info": {
   "codemirror_mode": {
    "name": "ipython",
    "version": 3
   },
   "file_extension": ".py",
   "mimetype": "text/x-python",
   "name": "python",
   "nbconvert_exporter": "python",
   "pygments_lexer": "ipython3",
   "version": "3.11.4"
  }
 },
 "nbformat": 4,
 "nbformat_minor": 5
}
