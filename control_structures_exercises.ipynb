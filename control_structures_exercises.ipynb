{
 "cells": [
  {
   "cell_type": "code",
   "execution_count": 26,
   "id": "c11203db-4bce-4d3a-8a1c-211d0a650a2d",
   "metadata": {
    "tags": []
   },
   "outputs": [
    {
     "name": "stdin",
     "output_type": "stream",
     "text": [
      "Enter a day of the week:  tuesday\n"
     ]
    },
    {
     "name": "stdout",
     "output_type": "stream",
     "text": [
      "No, it's not Monday.\n"
     ]
    }
   ],
   "source": [
    "#1a. Conditional Basics. Prompt the user for a day of the week, print out whether the day is Monday or not\n",
    "\n",
    "user_input = input(\"Enter a day of the week: \")\n",
    "\n",
    "if user_input == \"Monday\":\n",
    "    print(\"Yes, it's Monday.\")\n",
    "else:\n",
    "    print(\"No, it's not Monday.\")"
   ]
  },
  {
   "cell_type": "code",
   "execution_count": 2,
   "id": "74c2f5cc-db77-48e8-8567-4fb99b62889b",
   "metadata": {
    "tags": []
   },
   "outputs": [
    {
     "name": "stdin",
     "output_type": "stream",
     "text": [
      "Enter a day of the week:  4\n"
     ]
    },
    {
     "name": "stdout",
     "output_type": "stream",
     "text": [
      "Invalid input. Please enter a valid day of the week.\n"
     ]
    }
   ],
   "source": [
    "#1b.Prompt the user for a day of the week, print out whether the day is a weekday or a weekend\n",
    "\n",
    "user_input = input(\"Enter a day of the week: \")\n",
    "\n",
    "user_input = user_input.lower()\n",
    "\n",
    "if user_input == \"saturday\" or user_input == \"sunday\":\n",
    "    print(\"It's a weekend!\")\n",
    "elif user_input in [\"monday\", \"tuesday\", \"wednesday\", \"thursday\", \"friday\"]:\n",
    "    print(\"It's a weekday!\")\n",
    "else:\n",
    "    print(\"Invalid input. Please enter a valid day of the week.\")"
   ]
  },
  {
   "cell_type": "code",
   "execution_count": null,
   "id": "60c82440-7365-43bc-90dc-ac6e56f8bfa0",
   "metadata": {},
   "outputs": [],
   "source": [
    "# 1c.Calculate a weekly paycheck, accounting for overtime pay. Create variables and make up values for:\n",
    " # The number of hours worked in one week \n",
    " # The hourly rate $40\n",
    " # For calculating pay: For working 40 hours or less, each hour is paid at the hourly rate\n",
    " # For working more than 40 hours the first 40 hours are paid at the hourly rate each hour after 40 is paid at time and a half (hourly rate * 1.5)"
   ]
  },
  {
   "cell_type": "code",
   "execution_count": 3,
   "id": "ab4ca7fe-20f3-4548-8230-2adac8523558",
   "metadata": {
    "tags": []
   },
   "outputs": [
    {
     "name": "stdout",
     "output_type": "stream",
     "text": [
      "Weekly paycheck: $2200.00\n"
     ]
    }
   ],
   "source": [
    "#1c.\n",
    "\n",
    "hours_worked = 50 \n",
    "hourly_rate = 40\n",
    "\n",
    "if hours_worked <= 40:\n",
    "    weekly_pay = hours_worked * hourly_rate\n",
    "else:\n",
    "    regular_pay = 40 * hourly_rate\n",
    "    \n",
    "    overtime_hours = hours_worked - 40\n",
    "    overtime_rate = hourly_rate * 1.5\n",
    "    overtime_pay = overtime_hours * overtime_rate\n",
    "    \n",
    "    weekly_pay = regular_pay + overtime_pay\n",
    "\n",
    "print(f\"Weekly paycheck: ${weekly_pay:.2f}\")\n",
    "\n",
    "\n"
   ]
  },
  {
   "cell_type": "code",
   "execution_count": 38,
   "id": "5fc4a3cf-6a0d-46c1-adbe-b10deb9640eb",
   "metadata": {
    "tags": []
   },
   "outputs": [
    {
     "name": "stdout",
     "output_type": "stream",
     "text": [
      "5\n",
      "6\n",
      "7\n",
      "8\n",
      "9\n",
      "10\n",
      "11\n",
      "12\n",
      "13\n",
      "14\n",
      "15\n"
     ]
    }
   ],
   "source": [
    "#2a.\n",
    "\n",
    "i = 5\n",
    "while i <= 15:\n",
    "    print(i)\n",
    "    i += 1\n"
   ]
  },
  {
   "cell_type": "code",
   "execution_count": 1,
   "id": "1eeec9b1-3abc-490e-8740-e238c9a21e3c",
   "metadata": {
    "tags": []
   },
   "outputs": [
    {
     "name": "stdout",
     "output_type": "stream",
     "text": [
      "0\n",
      "2\n",
      "4\n",
      "6\n",
      "8\n",
      "10\n",
      "12\n",
      "14\n",
      "16\n",
      "18\n",
      "20\n",
      "22\n",
      "24\n",
      "26\n",
      "28\n",
      "30\n",
      "32\n",
      "34\n",
      "36\n",
      "38\n",
      "40\n",
      "42\n",
      "44\n",
      "46\n",
      "48\n",
      "50\n",
      "52\n",
      "54\n",
      "56\n",
      "58\n",
      "60\n",
      "62\n",
      "64\n",
      "66\n",
      "68\n",
      "70\n",
      "72\n",
      "74\n",
      "76\n",
      "78\n",
      "80\n",
      "82\n",
      "84\n",
      "86\n",
      "88\n",
      "90\n",
      "92\n",
      "94\n",
      "96\n",
      "98\n",
      "100\n"
     ]
    }
   ],
   "source": [
    "#2a.\n",
    "\n",
    "num = 0\n",
    "while num <= 100:\n",
    "    print(num)\n",
    "    num += 2\n",
    "\n",
    "    "
   ]
  },
  {
   "cell_type": "code",
   "execution_count": 5,
   "id": "cf0d0baa-18f4-464f-bad7-d509e3fe72ad",
   "metadata": {},
   "outputs": [
    {
     "name": "stdout",
     "output_type": "stream",
     "text": [
      "4\n",
      "16\n",
      "256\n",
      "65536\n"
     ]
    }
   ],
   "source": [
    "#2a.\n",
    "\n",
    "number = 2\n",
    "while number**2 < 1000000:\n",
    "    print(number**2)\n",
    "    number = number **2\n",
    "\n",
    "\n"
   ]
  },
  {
   "cell_type": "code",
   "execution_count": 6,
   "id": "0cdba473-d427-4d4b-adf2-9af7dbcf14d6",
   "metadata": {},
   "outputs": [
    {
     "name": "stdout",
     "output_type": "stream",
     "text": [
      "100\n",
      "95\n",
      "90\n",
      "85\n",
      "80\n",
      "75\n",
      "70\n",
      "65\n",
      "60\n",
      "55\n",
      "50\n",
      "45\n",
      "40\n",
      "35\n",
      "30\n",
      "25\n",
      "20\n",
      "15\n",
      "10\n",
      "5\n"
     ]
    }
   ],
   "source": [
    "#2a.\n",
    "\n",
    "number = 100\n",
    "while number >= 5:\n",
    "    print(number)\n",
    "    number -= 5\n"
   ]
  },
  {
   "cell_type": "code",
   "execution_count": 8,
   "id": "ba19c3cd-3d12-4aee-bbc3-e216eeed65a5",
   "metadata": {},
   "outputs": [
    {
     "name": "stdin",
     "output_type": "stream",
     "text": [
      "Enter a number:  5\n"
     ]
    },
    {
     "name": "stdout",
     "output_type": "stream",
     "text": [
      "5 * 1 = 5\n",
      "5 * 2 = 10\n",
      "5 * 3 = 15\n",
      "5 * 4 = 20\n",
      "5 * 5 = 25\n",
      "5 * 6 = 30\n",
      "5 * 7 = 35\n",
      "5 * 8 = 40\n",
      "5 * 9 = 45\n",
      "5 * 10 = 50\n"
     ]
    }
   ],
   "source": [
    "#2b.\n",
    "\n",
    "number = int(input(\"Enter a number: \"))\n",
    "\n",
    "for i in range(1, 11):\n",
    "    result = number * i\n",
    "    print(f\"{number} * {i} = {result}\")\n"
   ]
  },
  {
   "cell_type": "code",
   "execution_count": 9,
   "id": "5ebf59c3-8663-4fe3-bc9a-bce639d01036",
   "metadata": {},
   "outputs": [
    {
     "name": "stdout",
     "output_type": "stream",
     "text": [
      "1\n",
      "22\n",
      "333\n",
      "4444\n",
      "55555\n",
      "666666\n",
      "7777777\n",
      "88888888\n",
      "999999999\n"
     ]
    }
   ],
   "source": [
    "#2b.\n",
    "\n",
    "for i in range(1, 10):\n",
    "    print(str(i) * i) "
   ]
  },
  {
   "cell_type": "code",
   "execution_count": 17,
   "id": "b3f1f1bc-f4cb-44c9-98ec-6a856f7ca52a",
   "metadata": {},
   "outputs": [
    {
     "name": "stdin",
     "output_type": "stream",
     "text": [
      "Enter a positive integer:  10\n"
     ]
    },
    {
     "name": "stdout",
     "output_type": "stream",
     "text": [
      "10\n",
      "9\n",
      "8\n",
      "7\n",
      "6\n",
      "5\n",
      "4\n",
      "3\n",
      "2\n",
      "1\n"
     ]
    }
   ],
   "source": [
    "#2C.\n",
    "\n",
    "user_input = int(input(\"Enter a positive integer: \"))\n",
    "\n",
    "if user_input <= 0:\n",
    "    print(\"Please enter a positive integer.\")\n",
    "else:\n",
    "    for number in range(user_input, 0, -1):\n",
    "        print(number)\n"
   ]
  },
  {
   "cell_type": "code",
   "execution_count": 14,
   "id": "679c9159-6d16-4f6e-b5b3-df30d0ee0c22",
   "metadata": {},
   "outputs": [
    {
     "name": "stdin",
     "output_type": "stream",
     "text": [
      "Enter a positive number:  15\n"
     ]
    },
    {
     "name": "stdout",
     "output_type": "stream",
     "text": [
      "0\n",
      "1\n",
      "2\n",
      "3\n",
      "4\n",
      "5\n",
      "6\n",
      "7\n",
      "8\n",
      "9\n",
      "10\n",
      "11\n",
      "12\n",
      "13\n",
      "14\n",
      "15\n"
     ]
    }
   ],
   "source": [
    "#2c.\n",
    "\n",
    "user_input_str = input(\"Enter a positive number: \")\n",
    "\n",
    "user_input = int(user_input_str)\n",
    "\n",
    "if user_input <= 0:\n",
    "    print(\"Please enter a positive number.\")\n",
    "else:\n",
    "    for number in range(user_input + 1):\n",
    "        print(number)\n"
   ]
  },
  {
   "cell_type": "code",
   "execution_count": 4,
   "id": "bfbf83eb-db18-409b-b4ec-7462e86e43b3",
   "metadata": {},
   "outputs": [
    {
     "name": "stdin",
     "output_type": "stream",
     "text": [
      "Please enter an odd number between 1 and 50:  2\n",
      "Please enter an odd number between 1 and 50:  2\n",
      "Please enter an odd number between 1 and 50:  2\n",
      "Please enter an odd number between 1 and 50:  3\n"
     ]
    },
    {
     "name": "stdout",
     "output_type": "stream",
     "text": [
      "\n",
      "Number to skip is: 3\n",
      "Here is an odd number: 1\n",
      "Yikes! Skipping number: 3\n",
      "Here is an odd number: 5\n",
      "Here is an odd number: 7\n",
      "Here is an odd number: 9\n",
      "Here is an odd number: 11\n",
      "Here is an odd number: 13\n",
      "Here is an odd number: 15\n",
      "Here is an odd number: 17\n",
      "Here is an odd number: 19\n",
      "Here is an odd number: 21\n",
      "Here is an odd number: 23\n",
      "Here is an odd number: 25\n",
      "Here is an odd number: 27\n",
      "Here is an odd number: 29\n",
      "Here is an odd number: 31\n",
      "Here is an odd number: 33\n",
      "Here is an odd number: 35\n",
      "Here is an odd number: 37\n",
      "Here is an odd number: 39\n",
      "Here is an odd number: 41\n",
      "Here is an odd number: 43\n",
      "Here is an odd number: 45\n",
      "Here is an odd number: 47\n",
      "Here is an odd number: 49\n"
     ]
    }
   ],
   "source": [
    "#2C.\n",
    "\n",
    "while True:\n",
    "    user_input = input(\"Please enter an odd number between 1 and 50: \")\n",
    "    \n",
    "    if user_input.isdigit():\n",
    "        number = int(user_input)\n",
    "        if 1 <= number <= 50 and number % 2 != 0:\n",
    "            break\n",
    "\n",
    "print(\"\\nNumber to skip is:\", number)\n",
    "\n",
    "for i in range(1, 51):\n",
    "    if i == number:\n",
    "        print(\"Yikes! Skipping number:\", i)\n",
    "        continue\n",
    "    if i % 2 != 0:\n",
    "        print(\"Here is an odd number:\", i)\n"
   ]
  },
  {
   "cell_type": "code",
   "execution_count": 19,
   "id": "1c9f525e-c101-4ace-ac28-e385970c7da8",
   "metadata": {},
   "outputs": [
    {
     "name": "stdout",
     "output_type": "stream",
     "text": [
      "1\n",
      "2\n",
      "Fizz\n",
      "4\n",
      "Buzz\n",
      "Fizz\n",
      "7\n",
      "8\n",
      "Fizz\n",
      "Buzz\n",
      "11\n",
      "Fizz\n",
      "13\n",
      "14\n",
      "FizzBuzz\n",
      "16\n",
      "17\n",
      "Fizz\n",
      "19\n",
      "Buzz\n",
      "Fizz\n",
      "22\n",
      "23\n",
      "Fizz\n",
      "Buzz\n",
      "26\n",
      "Fizz\n",
      "28\n",
      "29\n",
      "FizzBuzz\n",
      "31\n",
      "32\n",
      "Fizz\n",
      "34\n",
      "Buzz\n",
      "Fizz\n",
      "37\n",
      "38\n",
      "Fizz\n",
      "Buzz\n",
      "41\n",
      "Fizz\n",
      "43\n",
      "44\n",
      "FizzBuzz\n",
      "46\n",
      "47\n",
      "Fizz\n",
      "49\n",
      "Buzz\n",
      "Fizz\n",
      "52\n",
      "53\n",
      "Fizz\n",
      "Buzz\n",
      "56\n",
      "Fizz\n",
      "58\n",
      "59\n",
      "FizzBuzz\n",
      "61\n",
      "62\n",
      "Fizz\n",
      "64\n",
      "Buzz\n",
      "Fizz\n",
      "67\n",
      "68\n",
      "Fizz\n",
      "Buzz\n",
      "71\n",
      "Fizz\n",
      "73\n",
      "74\n",
      "FizzBuzz\n",
      "76\n",
      "77\n",
      "Fizz\n",
      "79\n",
      "Buzz\n",
      "Fizz\n",
      "82\n",
      "83\n",
      "Fizz\n",
      "Buzz\n",
      "86\n",
      "Fizz\n",
      "88\n",
      "89\n",
      "FizzBuzz\n",
      "91\n",
      "92\n",
      "Fizz\n",
      "94\n",
      "Buzz\n",
      "Fizz\n",
      "97\n",
      "98\n",
      "Fizz\n",
      "Buzz\n"
     ]
    }
   ],
   "source": [
    "#3. One of the most common interview questions for entry-level programmers is the FizzBuzz test. \n",
    "# Developed by Imran Ghory, the test is designed to test basic looping and conditional logic skills.\n",
    "# Write a program that prints the numbers from 1 to 100.\n",
    "# For multiples of three print \"Fizz\" instead of the number\n",
    "# For the multiples of five print \"Buzz\".\n",
    "# For numbers which are multiples of both three and five print \"FizzBuzz\".\n",
    "\n",
    "for num in range(1, 101):\n",
    "    if num % 3 == 0 and num % 5 == 0:\n",
    "        print(\"FizzBuzz\")\n",
    "    elif num % 3 == 0:\n",
    "        print(\"Fizz\")\n",
    "    elif num % 5 == 0:\n",
    "        print(\"Buzz\")\n",
    "    else:\n",
    "        print(num)\n"
   ]
  },
  {
   "cell_type": "code",
   "execution_count": 25,
   "id": "aaa466af-7ab0-47be-be36-9505c7d00536",
   "metadata": {},
   "outputs": [
    {
     "name": "stdin",
     "output_type": "stream",
     "text": [
      "What number would you like to go up to?  20\n"
     ]
    },
    {
     "name": "stdout",
     "output_type": "stream",
     "text": [
      "Here is your table!\n",
      " \n",
      " number | squared |  cubed \n",
      "------- | ------- | -------\n",
      "1       | 1       | 1      \n",
      "2       | 4       | 8      \n",
      "3       | 9       | 27     \n",
      "4       | 16      | 64     \n",
      "5       | 25      | 125    \n",
      "6       | 36      | 216    \n",
      "7       | 49      | 343    \n",
      "8       | 64      | 512    \n",
      "9       | 81      | 729    \n",
      "10      | 100     | 1000   \n",
      "11      | 121     | 1331   \n",
      "12      | 144     | 1728   \n",
      "13      | 169     | 2197   \n",
      "14      | 196     | 2744   \n",
      "15      | 225     | 3375   \n",
      "16      | 256     | 4096   \n",
      "17      | 289     | 4913   \n",
      "18      | 324     | 5832   \n",
      "19      | 361     | 6859   \n",
      "20      | 400     | 8000   \n"
     ]
    },
    {
     "name": "stdin",
     "output_type": "stream",
     "text": [
      "Do you want to continue? (y/n)  n\n"
     ]
    }
   ],
   "source": [
    "#4\n",
    "\n",
    "while True:  \n",
    "    num = int(input(\"What number would you like to go up to? \"))\n",
    "    print(\"Here is your table!\")\n",
    "    print(\" \")\n",
    "    print(\" number | squared |  cubed \")\n",
    "    print(\"------- | ------- | -------\")    \n",
    "   \n",
    "    for i in range(1, num + 1):\n",
    "        print(f\"{i:<7} | {i ** 2:<7} | {i ** 3:<7}\")\n",
    "\n",
    "    answer = input(\"Do you want to continue? (y/n) \")      \n",
    "   \n",
    "    if answer.lower() != \"y\":\n",
    "        break                 \n",
    "   \n"
   ]
  },
  {
   "cell_type": "code",
   "execution_count": 24,
   "id": "00e41d93-8d62-4e97-adc2-8e74f0f71754",
   "metadata": {},
   "outputs": [
    {
     "name": "stdin",
     "output_type": "stream",
     "text": [
      "What did they score out of 100? 10\n"
     ]
    },
    {
     "name": "stdout",
     "output_type": "stream",
     "text": [
      "10 is an F.\n"
     ]
    },
    {
     "name": "stdin",
     "output_type": "stream",
     "text": [
      "Do you want to continue? (y/n)  y\n",
      "What did they score out of 100? 50\n"
     ]
    },
    {
     "name": "stdout",
     "output_type": "stream",
     "text": [
      "50 is an F.\n"
     ]
    },
    {
     "name": "stdin",
     "output_type": "stream",
     "text": [
      "Do you want to continue? (y/n)  y\n",
      "What did they score out of 100? 88\n"
     ]
    },
    {
     "name": "stdout",
     "output_type": "stream",
     "text": [
      "88 is an A.\n"
     ]
    },
    {
     "name": "stdin",
     "output_type": "stream",
     "text": [
      "Do you want to continue? (y/n)  n\n"
     ]
    }
   ],
   "source": [
    "#5\n",
    "\n",
    "while True:\n",
    "    x = int(input('What did they score out of 100?'))\n",
    "\n",
    "    if x <= 100 and x >= 88:\n",
    "        print(f'{x} is an A.')\n",
    "    elif x <= 87 and x >= 80:\n",
    "        print(f'{x} is a B.')\n",
    "    elif x <= 79 and x >= 67:\n",
    "        print(f'{x} is a C.')\n",
    "    elif x <= 66 and x >= 60:\n",
    "        print(f'{x} is a D.')\n",
    "    else:\n",
    "        print(f'{x} is an F.')\n",
    "    answer = input(\"Do you want to continue? (y/n) \")      \n",
    "    if answer.lower() != \"y\":\n",
    "        break\n",
    "\n"
   ]
  },
  {
   "cell_type": "code",
   "execution_count": null,
   "id": "34caaeea-81e3-4895-b2f1-b00f2dbc148a",
   "metadata": {
    "tags": []
   },
   "outputs": [
    {
     "name": "stdout",
     "output_type": "stream",
     "text": [
      "All books:\n",
      "Outliers by Malcom Gladwell (self-help)\n",
      "The Alchemist by Paulo Coelho (Adventure Fiction)\n",
      "The Simple Path to Wealth by J.L. Collins (Finance)\n",
      "The Intelligent Investor by Benjamin Graham (Finance)\n",
      "Born to Run by Christopher McDougall (Biography)\n"
     ]
    }
   ],
   "source": [
    "#6\n",
    "\n",
    "books = [\n",
    "    {\"title\": \"Outliers\", \"author\": \"Malcom Gladwell\", \"genre\": \"self-help\"},\n",
    "    {\"title\": \"The Alchemist\", \"author\": \"Paulo Coelho\", \"genre\": \"Adventure Fiction\"},\n",
    "    {\"title\": \"The Simple Path to Wealth\", \"author\": \"J.L. Collins\", \"genre\": \"Finance\"},\n",
    "    {\"title\": \"The Intelligent Investor\", \"author\": \"Benjamin Graham\", \"genre\": \"Finance\"},\n",
    "    {\"title\": \"Born to Run\", \"author\": \"Christopher McDougall\", \"genre\": \"Biography\"},\n",
    "]\n",
    "\n",
    "print(\"All books:\")\n",
    "for book in books:\n",
    "    print(f\"{book['title']} by {book['author']} ({book['genre']})\")\n",
    "\n",
    "selected_genre = input(\"Select a genre: \")\n",
    "\n",
    "# Print all the books in the selected genre\n",
    "print(f\"Books in the {selected_genre} genre:\")\n",
    "for book in books:\n",
    "    if book['genre'] == selected_genre:\n",
    "        print(f\"{book['title']} by {book['author']}\")\n"
   ]
  },
  {
   "cell_type": "code",
   "execution_count": null,
   "id": "96daeffb-4bb8-4d17-b89a-63d3a189ebd9",
   "metadata": {},
   "outputs": [],
   "source": []
  }
 ],
 "metadata": {
  "kernelspec": {
   "display_name": "Python 3 (ipykernel)",
   "language": "python",
   "name": "python3"
  },
  "language_info": {
   "codemirror_mode": {
    "name": "ipython",
    "version": 3
   },
   "file_extension": ".py",
   "mimetype": "text/x-python",
   "name": "python",
   "nbconvert_exporter": "python",
   "pygments_lexer": "ipython3",
   "version": "3.11.4"
  }
 },
 "nbformat": 4,
 "nbformat_minor": 5
}
