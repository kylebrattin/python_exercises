{
 "cells": [
  {
   "cell_type": "code",
   "execution_count": 28,
   "id": "a646f086-0d71-486e-b056-000468e8ee55",
   "metadata": {
    "tags": []
   },
   "outputs": [],
   "source": [
    "import function_exercises"
   ]
  },
  {
   "cell_type": "code",
   "execution_count": 29,
   "id": "1b664117-ee7f-4329-8a60-81631e7c56ef",
   "metadata": {
    "tags": []
   },
   "outputs": [],
   "source": [
    "from function_exercises import get_letter_grade as grades\n"
   ]
  },
  {
   "cell_type": "code",
   "execution_count": 30,
   "id": "1ed7ac5b-7e44-44a6-b48c-95337c5ca979",
   "metadata": {},
   "outputs": [],
   "source": [
    "#1A.Run an interactive python session and import the module. Call the is_vowel function using the . syntax."
   ]
  },
  {
   "cell_type": "code",
   "execution_count": 31,
   "id": "ec4944bc-ccb6-4941-a08c-b4221b5925be",
   "metadata": {
    "tags": []
   },
   "outputs": [],
   "source": [
    "from function_exercises import is_vowel"
   ]
  },
  {
   "cell_type": "code",
   "execution_count": null,
   "id": "35f2d19d-0fd2-4f49-81b2-2688c41bf053",
   "metadata": {},
   "outputs": [],
   "source": []
  },
  {
   "cell_type": "code",
   "execution_count": 32,
   "id": "7a4d9ade-6614-413c-8185-eb671810cacb",
   "metadata": {},
   "outputs": [],
   "source": [
    "#1B. Create a file named import_exercises.py. Within this file, use from to import the calculate_tip function directly. \n",
    "# Call this function with values you choose and print the result."
   ]
  },
  {
   "cell_type": "code",
   "execution_count": 2,
   "id": "0600cfa6-a519-41a9-b734-2e4a86e55b85",
   "metadata": {
    "tags": []
   },
   "outputs": [],
   "source": [
    "from function_exercises import calculate_tip"
   ]
  },
  {
   "cell_type": "code",
   "execution_count": 3,
   "id": "46c8a371-2ffc-4668-aa34-9b246820e560",
   "metadata": {
    "tags": []
   },
   "outputs": [
    {
     "data": {
      "text/plain": [
       "15.0"
      ]
     },
     "execution_count": 3,
     "metadata": {},
     "output_type": "execute_result"
    }
   ],
   "source": [
    "calculate_tip(75, .2 )"
   ]
  },
  {
   "cell_type": "code",
   "execution_count": 35,
   "id": "80fba91b-afde-4669-9992-d5a43405a0a8",
   "metadata": {},
   "outputs": [],
   "source": [
    "#1C. Create a jupyter notebook named import_exercises.ipynb. Use from to import the get_letter_grade function and give it an alias. Test this function in your notebook"
   ]
  },
  {
   "cell_type": "code",
   "execution_count": 36,
   "id": "bbb5a7aa-b094-4c38-bd32-9e534ca61940",
   "metadata": {
    "tags": []
   },
   "outputs": [],
   "source": [
    "from function_exercises import get_letter_grade as grades"
   ]
  },
  {
   "cell_type": "code",
   "execution_count": 37,
   "id": "ff94a98a-609f-44f3-bc09-103f7ee56ce8",
   "metadata": {
    "tags": []
   },
   "outputs": [
    {
     "data": {
      "text/plain": [
       "'B'"
      ]
     },
     "execution_count": 37,
     "metadata": {},
     "output_type": "execute_result"
    }
   ],
   "source": [
    "grades(88)"
   ]
  },
  {
   "cell_type": "code",
   "execution_count": 38,
   "id": "ce1e9cfd-db6d-4120-b161-f5212a8b6abf",
   "metadata": {},
   "outputs": [],
   "source": [
    "#2. Read about and use the itertools module from the python standard library to help you solve the following problems.\n",
    "# Note: Many of these functions in this library return an object, to see the results of the function, cast this object as a list.\n",
    "# How many different ways can you combine a single letter from \"abc\" with either 1, 2, or 3?\n",
    "# How many different combinations are there of 2 letters from \"abcd\"?\n",
    "# How many different permutations are there of 2 letters from \"abcd\"?\n"
   ]
  },
  {
   "cell_type": "code",
   "execution_count": 15,
   "id": "59a42407-2719-4bb3-91ea-b1655d3fb083",
   "metadata": {
    "tags": []
   },
   "outputs": [
    {
     "name": "stdout",
     "output_type": "stream",
     "text": [
      "[('a', 1), ('a', 2), ('a', 3), ('b', 1), ('b', 2), ('b', 3), ('c', 1), ('c', 2), ('c', 3)]\n",
      "There are 9 combinations\n"
     ]
    }
   ],
   "source": [
    "import itertools\n",
    "\n",
    "# Define the letters and numbers to combine\n",
    "letters = 'abc'\n",
    "number = [1,2,3]\n",
    "\n",
    "# Generate all possible combinations using the product function\n",
    "combinations = list(itertools.product(letters, number))\n",
    "\n",
    "# Print the number of combinations\n",
    "print(list(combinations))\n",
    "print(f'There are {len(combinations)} combinations')"
   ]
  },
  {
   "cell_type": "code",
   "execution_count": 18,
   "id": "4f4ff0fc-58bf-4612-ba87-b1511c1eba9e",
   "metadata": {
    "tags": []
   },
   "outputs": [
    {
     "name": "stdout",
     "output_type": "stream",
     "text": [
      "[('a', 'b'), ('a', 'c'), ('a', 'd'), ('a', 'a'), ('a', 'b'), ('a', 'c'), ('a', 'd'), ('b', 'c'), ('b', 'd'), ('b', 'a'), ('b', 'b'), ('b', 'c'), ('b', 'd'), ('c', 'd'), ('c', 'a'), ('c', 'b'), ('c', 'c'), ('c', 'd'), ('d', 'a'), ('d', 'b'), ('d', 'c'), ('d', 'd'), ('a', 'b'), ('a', 'c'), ('a', 'd'), ('b', 'c'), ('b', 'd'), ('c', 'd')]\n",
      "There are 28 combinations\n"
     ]
    }
   ],
   "source": [
    "import itertools\n",
    "\n",
    "letters = 'abcdabcd'\n",
    "\n",
    "\n",
    "combinations = list(itertools.combinations(letters, 2))\n",
    "\n",
    "print(list(combinations))\n",
    "print(f'There are {len(combinations)} combinations')\n"
   ]
  },
  {
   "cell_type": "code",
   "execution_count": 41,
   "id": "712ebeab-57b0-449a-9375-810bbe0185b4",
   "metadata": {
    "tags": []
   },
   "outputs": [
    {
     "name": "stdout",
     "output_type": "stream",
     "text": [
      "[('a', 'b'), ('a', 'c'), ('a', 'd'), ('b', 'a'), ('b', 'c'), ('b', 'd'), ('c', 'a'), ('c', 'b'), ('c', 'd'), ('d', 'a'), ('d', 'b'), ('d', 'c')]\n",
      "There are 12 combinations\n"
     ]
    }
   ],
   "source": [
    "import itertools\n",
    "\n",
    "letters = 'abcd'\n",
    "\n",
    "\n",
    "combinations = list(itertools.permutations(letters, 2))\n",
    "\n",
    "print(list(combinations))\n",
    "print(f'There are {len(combinations)} combinations')\n"
   ]
  },
  {
   "cell_type": "code",
   "execution_count": 43,
   "id": "8b9085f8-9e5a-43dc-9dd0-caddc65408a3",
   "metadata": {},
   "outputs": [],
   "source": [
    "data = json.load(open('profiles.json'))"
   ]
  },
  {
   "cell_type": "code",
   "execution_count": 31,
   "id": "e298db9c-e18e-4a4d-92c6-e67e743aada9",
   "metadata": {},
   "outputs": [],
   "source": [
    "import json\n",
    "\n",
    "with open('profiles.json') as f:\n",
    "    data = json.load(f)\n",
    "\n"
   ]
  },
  {
   "cell_type": "code",
   "execution_count": 32,
   "id": "f937f6e5-aee7-404d-be34-6b126e73f8a7",
   "metadata": {},
   "outputs": [
    {
     "name": "stdout",
     "output_type": "stream",
     "text": [
      "9\n"
     ]
    }
   ],
   "source": [
    "#number of isactive users\n",
    "count = 0\n",
    "\n",
    "# Iterate over the list of objects and increment the count variable for each object where isActive is True\n",
    "for obj in data:\n",
    "    if obj ['isActive'] == True:\n",
    "        count += 1\n",
    "\n",
    "# Print the count of active users\n",
    "print(count)"
   ]
  },
  {
   "cell_type": "code",
   "execution_count": 33,
   "id": "b514cebe-2c3b-4ae6-ae51-21b2f2cc46f1",
   "metadata": {},
   "outputs": [
    {
     "name": "stdout",
     "output_type": "stream",
     "text": [
      "10\n"
     ]
    }
   ],
   "source": [
    "#number of inactive users\n",
    "count = 0\n",
    "\n",
    "# Iterate over the list of objects and increment the count variable for each object where isActive is True\n",
    "for obj in data:\n",
    "    if obj ['isActive'] == False:\n",
    "        count += 1\n",
    "\n",
    "# Print the count of active users\n",
    "print(count)"
   ]
  },
  {
   "cell_type": "code",
   "execution_count": 34,
   "id": "c4f30abd-cc67-466c-85bc-6b0fdf9d3bab",
   "metadata": {},
   "outputs": [
    {
     "name": "stdout",
     "output_type": "stream",
     "text": [
      "$52667.02\n"
     ]
    }
   ],
   "source": [
    "#grand total of all balances\n",
    "cleaned_balance = 0\n",
    "\n",
    "# Iterate over the list of dictionaries and add up the values of the balance key\n",
    "for dirty_balance in data:\n",
    "    cleaned_balance += float(dirty_balance['balance'].replace('$', '').replace(',', ''))\n",
    "    # For each iteration of the balance field within the dictionary, it is using float to express it as a number, \n",
    "    # then using replace to remove the extra characters.\n",
    "\n",
    "# Print the sum of the balance field\n",
    "print(f'${cleaned_balance}')"
   ]
  },
  {
   "cell_type": "code",
   "execution_count": 42,
   "id": "c90e6746-9503-4fa9-9373-f292b03e9a45",
   "metadata": {},
   "outputs": [
    {
     "name": "stdout",
     "output_type": "stream",
     "text": [
      "Total Users: 19\n",
      "Total Balance: $52667.02\n",
      "Avg Balance: $2771.95\n"
     ]
    }
   ],
   "source": [
    "# Average balance per user\n",
    "\n",
    "users_count = len(data)\n",
    "total_balance = 0\n",
    "\n",
    "for obj in data:\n",
    "    total_balance += float(obj['balance'].replace('$', '').replace(',', ''))\n",
    "    \n",
    "average_balance = total_balance / users_count\n",
    "\n",
    "print(f'Total Users: {users_count}')\n",
    "print(f'Total Balance: ${total_balance}')\n",
    "print(f'Avg Balance: ${average_balance:.2f}')"
   ]
  },
  {
   "cell_type": "code",
   "execution_count": 50,
   "id": "cb309dc6-0ff7-46e9-9fe6-8af7863aceb8",
   "metadata": {},
   "outputs": [
    {
     "name": "stdout",
     "output_type": "stream",
     "text": [
      "Avery Flynn, $1,214.10\n"
     ]
    }
   ],
   "source": [
    "# User with the lowest balance\n",
    "\n",
    "import json\n",
    "\n",
    "# Define a key function that extracts the value of the balance key\n",
    "def get_balance(obj):\n",
    "    \"\"\"\n",
    "    This function extracts the value of the 'balance' key from a dictionary object as a clean float.\n",
    "    \"\"\"\n",
    "    return float(obj['balance'].replace('$', '').replace(',', ''))\n",
    "\n",
    "# Load the JSON data from the profiles.json file\n",
    "data = json.load(open('profiles.json'))\n",
    "\n",
    "# Find the user with the lowest balance using the min function with the get_balance key function\n",
    "min_balance_user = min(data, key=get_balance)\n",
    "\n",
    "# Print the name and balance of the user with the lowest balance\n",
    "print(f\"{min_balance_user['name']}, {min_balance_user['balance']}\")"
   ]
  },
  {
   "cell_type": "code",
   "execution_count": 46,
   "id": "e7397541-c82d-49d7-9407-e8d2923efb15",
   "metadata": {
    "tags": []
   },
   "outputs": [
    {
     "name": "stdout",
     "output_type": "stream",
     "text": [
      "Fay Hammond, $3,919.64\n"
     ]
    }
   ],
   "source": [
    "# User with the highest balance\n",
    "\n",
    "import json\n",
    "\n",
    "# Define a key function that extracts the value of the balance key\n",
    "def get_balance(obj):\n",
    "    \"\"\"\n",
    "    This function extracts the value of the 'balance' key from a dictionary object as a clean float.\n",
    "    \"\"\"\n",
    "    return float(obj['balance'].replace('$', '').replace(',', ''))\n",
    "\n",
    "# Load the JSON data from the profiles.json file\n",
    "data = json.load(open('profiles.json'))\n",
    "\n",
    "# Find the user with the lowest balance using the min function with the get_balance key function\n",
    "max_balance_user = max(data, key=get_balance)\n",
    "\n",
    "# Print the name and balance of the user with the lowest balance\n",
    "print(f\"{max_balance_user['name']}, {max_balance_user['balance']}\")"
   ]
  },
  {
   "cell_type": "code",
   "execution_count": 47,
   "id": "557cea2c-b919-47db-af85-b64f5382fc04",
   "metadata": {
    "tags": []
   },
   "outputs": [
    {
     "name": "stdout",
     "output_type": "stream",
     "text": [
      "{'strawberry': 9, 'apple': 6, 'banana': 4}\n",
      "9\n"
     ]
    }
   ],
   "source": [
    "# Most common favorite fruit: Strawberry\n",
    "\n",
    "# Create an empty dictionary to store the counts of each value\n",
    "value_counts = {}\n",
    "\n",
    "# Loop through each dictionary in the data list\n",
    "for d in data:\n",
    "    # Get the value of the favoriteFruit key\n",
    "    value = d['favoriteFruit']\n",
    "    # If the value is not already in the value_counts dictionary, add it with a count of 1\n",
    "    if value not in value_counts:\n",
    "        value_counts[value] = 1\n",
    "    # If the value is already in the value_counts dictionary, increment its count by 1\n",
    "    else:\n",
    "        value_counts[value] += 1\n",
    "\n",
    "# Find the maximum count of an occurrence\n",
    "max_count = max(value_counts.values())\n",
    "\n",
    "# Print the maximum count of an occurrence\n",
    "print(value_counts)\n",
    "print(max_count)"
   ]
  },
  {
   "cell_type": "code",
   "execution_count": 48,
   "id": "74b17132-3838-41fb-9e16-b10c0f967f2c",
   "metadata": {
    "tags": []
   },
   "outputs": [
    {
     "name": "stdout",
     "output_type": "stream",
     "text": [
      "{'strawberry': 9, 'apple': 6, 'banana': 4}\n",
      "4\n"
     ]
    }
   ],
   "source": [
    "# Least most common favorite fruit: Banana\n",
    "\n",
    "# Create an empty dictionary to store the counts of each value\n",
    "value_counts = {}\n",
    "\n",
    "# Loop through each dictionary in the data list\n",
    "for d in data:\n",
    "    # Get the value of the favoriteFruit key\n",
    "    value = d['favoriteFruit']\n",
    "    # If the value is not already in the value_counts dictionary, add it with a count of 1\n",
    "    if value not in value_counts:\n",
    "        value_counts[value] = 1\n",
    "    # If the value is already in the value_counts dictionary, increment its count by 1\n",
    "    else:\n",
    "        value_counts[value] += 1\n",
    "\n",
    "# Find the maximum count of an occurrence\n",
    "min_count = min(value_counts.values())\n",
    "\n",
    "# Print the min count of an occurrence\n",
    "print(value_counts)\n",
    "print(min_count)"
   ]
  },
  {
   "cell_type": "code",
   "execution_count": 49,
   "id": "47e981f8-34a5-446e-9d2d-2ba1a57d72de",
   "metadata": {
    "tags": []
   },
   "outputs": [
    {
     "name": "stdout",
     "output_type": "stream",
     "text": [
      "210\n"
     ]
    }
   ],
   "source": [
    "# Total number of unread messages for all users\n",
    " \n",
    "total_unread_messages = 0\n",
    "\n",
    "# Loop through each dictionary in the data list\n",
    "for member in data:\n",
    "    # Get the value of the greeting key\n",
    "    greeting = member['greeting']\n",
    "    # Find all the numbers in the greeting\n",
    "    numbers = [int(s) for s in greeting.split() if s.isdigit()]\n",
    "    # Add up the numbers and add the result to the total unread messages\n",
    "    total_unread_messages += sum(numbers)\n",
    "\n",
    "# Print the total number of unread messages\n",
    "print(total_unread_messages)"
   ]
  }
 ],
 "metadata": {
  "kernelspec": {
   "display_name": "Python 3 (ipykernel)",
   "language": "python",
   "name": "python3"
  },
  "language_info": {
   "codemirror_mode": {
    "name": "ipython",
    "version": 3
   },
   "file_extension": ".py",
   "mimetype": "text/x-python",
   "name": "python",
   "nbconvert_exporter": "python",
   "pygments_lexer": "ipython3",
   "version": "3.11.4"
  }
 },
 "nbformat": 4,
 "nbformat_minor": 5
}
